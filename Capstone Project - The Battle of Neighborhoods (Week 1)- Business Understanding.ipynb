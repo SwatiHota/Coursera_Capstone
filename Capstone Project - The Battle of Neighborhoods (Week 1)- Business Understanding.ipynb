{
 "cells": [
  {
   "cell_type": "markdown",
   "metadata": {},
   "source": [
    "# Capstone Project - The Battle of Neighbourhoods\n",
    "\n",
    "## Introduction / Business Problem"
   ]
  },
  {
   "cell_type": "markdown",
   "metadata": {},
   "source": [
    "#### \"Which locality of all the cities in United States would be the best place to start a Gaming Arcade?\""
   ]
  },
  {
   "cell_type": "markdown",
   "metadata": {},
   "source": [
    "Vasanth who is my client is interested in starting a gaming arcade in the best locality of all the cities in United states. He defines a best locatlity based on the following constraints, \n",
    "\n",
    "* Population density of a locality \n",
    "* Per Capital income\n",
    "* Population of each location\n",
    "* Venues in each locality \n",
    "\n",
    "The category of the venues that he's interested in are, \n",
    "\n",
    "* Arts and Entertainment \n",
    "* Shops & Service\n",
    "* College and University\n",
    "* Event\n",
    "* Food\n",
    "* Nightife Spot\n",
    "* Outdoors & Recreation\n",
    "* Professional & Other places\n",
    "* Residence\n",
    "* Travel & Transport\n",
    "\n",
    "## Business Understanding\n",
    "\n",
    "Installing a Gaming arcade in a place should be done strategically. \n",
    "\n",
    "* Firstly, you should know why to start off with a place in particular?\n",
    "* If a place is chosen, you must have a very clear understanding of who would your potential customers be?\n",
    "* You need to have a clear understanding of the customers spending patterns in that locality etc. \n",
    "* Last but not the least, you need to take care of the legal aspects involved in that locality. \n",
    "\n",
    "\n",
    "### A brief about the Data:\n",
    "\n",
    "_Here's some brief about the locaions in particular(source: wikipedia):_\n",
    "\n",
    "As defined by the United States Census Bureau, an \"incorporated place\" includes a variety of designations, including city, town, village, borough, and municipality. A few exceptional census-designated places (CDPs) are also included in the Census Bureau's listing of incorporated places. Consolidated city-counties represent a distinct type of government that includes the entire population of a county, or county equivalent. Some consolidated city-counties, however, include multiple incorporated places.\n",
    "\n",
    "\n",
    "_About the State income levels:_ State income levels and income data for the United States as a whole are included for comparison. Note that county-equivalents in Louisiana are called \"parishes\" and in Alaska are called in \"boroughs,\" and also that in Alaska census areas in the Unorganized Borough are county-equivalents. For states where independent cities are county-equivalents, the word \"city\" is included to identify the independent cities and to differentiate them from counties with identical names; the counties with the identical names have the word \"county\" following them. The word \"county\" is included in the names of counties that have names identical to the names of U.S. states or cities to differentiate them."
   ]
  },
  {
   "cell_type": "code",
   "execution_count": null,
   "metadata": {},
   "outputs": [],
   "source": []
  }
 ],
 "metadata": {
  "kernelspec": {
   "display_name": "Python 3",
   "language": "python",
   "name": "python3"
  },
  "language_info": {
   "codemirror_mode": {
    "name": "ipython",
    "version": 3
   },
   "file_extension": ".py",
   "mimetype": "text/x-python",
   "name": "python",
   "nbconvert_exporter": "python",
   "pygments_lexer": "ipython3",
   "version": "3.7.1"
  }
 },
 "nbformat": 4,
 "nbformat_minor": 2
}
